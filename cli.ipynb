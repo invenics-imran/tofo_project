{
 "cells": [
  {
   "cell_type": "code",
   "execution_count": 2,
   "metadata": {},
   "outputs": [
    {
     "name": "stdout",
     "output_type": "stream",
     "text": [
      "it is,  Nov 02 2023, 18 20 07\n"
     ]
    },
    {
     "name": "stdout",
     "output_type": "stream",
     "text": [
      "bye\n"
     ]
    }
   ],
   "source": [
    "\n",
    "# organising codes in modules\n",
    "from function import get_todos, write_todos\n",
    "\n",
    "# or we can use import function\n",
    "# then use  function.get_todos()\n",
    "# and function.write_todos ineverywher get_todos and write_todos\n",
    "\n",
    "# ....................\n",
    "# add a date feature  standard module , constants, if anme equal  main \n",
    "# import function \n",
    "import time\n",
    "\n",
    "now=time.strftime(\"%b %d %Y, %H %M %S\")\n",
    "print(\"it is, \" , now)\n",
    "#  ...................\n",
    "\n",
    "\n",
    "while True:\n",
    "    user_action=input(\"Type add or show or edit or complete or exit: \")\n",
    "    user_action=user_action.strip()\n",
    "\n",
    "    \n",
    "    if user_action.startswith(\"add\"):\n",
    "        \n",
    "            todo=user_action[4:] + \"\\n\"\n",
    "            \n",
    "            todos=get_todos()\n",
    "            todos.append(todo)\n",
    "\n",
    "            write_todos(todos)\n",
    " \n",
    "            \n",
    "    elif user_action.startswith(\"show\"):\n",
    "\n",
    "            todos=get_todos(\"todos.txt\")\n",
    "            print(todos)\n",
    "            for index,item in enumerate(todos) :\n",
    "                item=item.strip('\\n')\n",
    "                row=f\"{index+1}-{item}\"\n",
    "                print(row)\n",
    "                           \n",
    "    elif user_action.startswith(\"edit\"):\n",
    "        try:        \n",
    "            number=int(user_action[5:])\n",
    "            print(number)\n",
    "            number=number-1\n",
    "            todos=get_todos(\"todos.txt\")\n",
    "           \n",
    "            new_todo=input(\"Enter new todo\")\n",
    "            todos[number]=new_todo + '\\n'\n",
    "\n",
    "\n",
    "            write_todos(todos)\n",
    "        except ValueError:\n",
    "             print(\"your command not valid\")\n",
    "             continue\n",
    "             \n",
    "\n",
    "\n",
    "    elif user_action.startswith(\"complete\"):\n",
    "             try:   \n",
    "                number=int(user_action[9:])\n",
    "                todos=get_todos(\"todos.txt\")\n",
    "                number=number-1\n",
    "                \n",
    "                todo_to_remove=todos[number-1].strip('\\n') \n",
    "\n",
    "                todos.pop(number-1)\n",
    "\n",
    "                write_todos(\"todos.txt\",todos)\n",
    "\n",
    "                message=f\"the removed todo {todo_to_remove} from the list\"  \n",
    "                print(message)  \n",
    "             except IndexError:\n",
    "                  print(\"there is no item with that number\")\n",
    "                  continue\n",
    "\n",
    "    elif user_action.startswith(\"exit\"):\n",
    "            break \n",
    "    \n",
    "    else:\n",
    "         print(\"entered wrong command\")\n",
    "\n",
    "print(\"bye\")               \n",
    "\n",
    "            \n",
    "\n"
   ]
  }
 ],
 "metadata": {
  "kernelspec": {
   "display_name": ".venv",
   "language": "python",
   "name": "python3"
  },
  "language_info": {
   "codemirror_mode": {
    "name": "ipython",
    "version": 3
   },
   "file_extension": ".py",
   "mimetype": "text/x-python",
   "name": "python",
   "nbconvert_exporter": "python",
   "pygments_lexer": "ipython3",
   "version": "3.10.11"
  }
 },
 "nbformat": 4,
 "nbformat_minor": 2
}
