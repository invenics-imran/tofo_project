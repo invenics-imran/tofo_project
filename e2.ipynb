{
 "cells": [
  {
   "cell_type": "code",
   "execution_count": 8,
   "metadata": {},
   "outputs": [
    {
     "name": "stdout",
     "output_type": "stream",
     "text": [
      "['station', 'temperature']\n",
      "['kuala lumpur', '45']\n",
      "['new york', '45']\n"
     ]
    }
   ],
   "source": [
    "import csv\n",
    "\n",
    "\n",
    "with open(\"weather.csv\",'r') as file:\n",
    "    data =list(csv.reader(file))\n",
    "    \n",
    "city=input(\"Enter a city: \")\n",
    "\n",
    "for row in data:\n",
    "    if row[0]==city:\n",
    "        print(row[1])"
   ]
  },
  {
   "cell_type": "code",
   "execution_count": 10,
   "metadata": {},
   "outputs": [
    {
     "data": {
      "text/plain": [
       "'c:\\\\Users\\\\ImranSajawal\\\\proj\\\\python_udemy\\\\app1\\\\output.zip'"
      ]
     },
     "execution_count": 10,
     "metadata": {},
     "output_type": "execute_result"
    }
   ],
   "source": [
    "# e3\n",
    "\n",
    "import shutil\n",
    "\n",
    "shutil.make_archive(\"output\",\"zip\",\"file\")"
   ]
  },
  {
   "cell_type": "code",
   "execution_count": 13,
   "metadata": {},
   "outputs": [
    {
     "data": {
      "text/plain": [
       "True"
      ]
     },
     "execution_count": 13,
     "metadata": {},
     "output_type": "execute_result"
    }
   ],
   "source": [
    "# e4\n",
    "\n",
    "import webbrowser\n",
    "\n",
    "user_term=input(\"enter a search term: \").replace(\" \",\"+\")\n",
    "webbrowser.open(\"https://google.com/search?q=\"+user_term)"
   ]
  }
 ],
 "metadata": {
  "kernelspec": {
   "display_name": "venv",
   "language": "python",
   "name": "python3"
  },
  "language_info": {
   "codemirror_mode": {
    "name": "ipython",
    "version": 3
   },
   "file_extension": ".py",
   "mimetype": "text/x-python",
   "name": "python",
   "nbconvert_exporter": "python",
   "pygments_lexer": "ipython3",
   "version": "3.10.11"
  }
 },
 "nbformat": 4,
 "nbformat_minor": 2
}
