{
 "cells": [
  {
   "cell_type": "code",
   "execution_count": 3,
   "metadata": {},
   "outputs": [
    {
     "name": "stdout",
     "output_type": "stream",
     "text": [
      "[(0, 'a'), (1, 'b'), (2, 'c')]\n"
     ]
    }
   ],
   "source": [
    "a = list(enumerate([\"a\", \"b\", \"c\"]))\n",
    "# this retirns an enumerte object bt ther is nothing to display so it doest nt display anything  so we have to give a return somemthing like \n",
    "# list then print that list so it will print that list\n",
    "\n",
    "print(a)"
   ]
  },
  {
   "cell_type": "code",
   "execution_count": 5,
   "metadata": {},
   "outputs": [
    {
     "name": "stdout",
     "output_type": "stream",
     "text": [
      "1.Ben\n",
      "2.John\n",
      "3.Seb\n"
     ]
    }
   ],
   "source": [
    "# sort\n",
    "# if to sort in descending order then give as waiting_list.sort(reverse=True)\n",
    "waiting_list =[\"seb\", \"ben\", \"john\"]\n",
    "waiting_list.sort()\n",
    "\n",
    "for index,item in enumerate(waiting_list):\n",
    "    row=f\"{index+1}.{item.capitalize()}\"\n",
    "\n",
    "    print(row)\n",
    "\n",
    "    # dir(list)\n",
    "    # help(list.help)\n"
   ]
  },
  {
   "cell_type": "code",
   "execution_count": 3,
   "metadata": {},
   "outputs": [
    {
     "name": "stdout",
     "output_type": "stream",
     "text": [
      "['1-doc.txt', '1-report.txt', '1-presentation.txt']\n"
     ]
    }
   ],
   "source": [
    "filenames=[\"1.doc\",\"1.report\",\"1.presentation\"]\n",
    "\n",
    "filenames=[filename.replace('.','-') + '.txt' for filename in filenames]\n",
    "\n",
    "print(filenames)"
   ]
  },
  {
   "cell_type": "code",
   "execution_count": 5,
   "metadata": {},
   "outputs": [
    {
     "name": "stdout",
     "output_type": "stream",
     "text": [
      "['a', 'b', 'c']\n"
     ]
    }
   ],
   "source": [
    "new = [i for i in ['a', 'b', 'c']]\n",
    "print(new)\n"
   ]
  },
  {
   "cell_type": "code",
   "execution_count": 6,
   "metadata": {},
   "outputs": [
    {
     "name": "stdout",
     "output_type": "stream",
     "text": [
      "49.1\n"
     ]
    }
   ],
   "source": [
    "user_entries = ['10', '19.1', '20']\n",
    "\n",
    "user_numbers=[]\n",
    "for item in user_entries:\n",
    "    user_numbers.append(float(item))\n",
    "    \n",
    "print(sum(user_numbers))\n",
    "\n",
    "#OR\n",
    "\n",
    "user_numbers = [float(item) for item in user_entries]\n"
   ]
  },
  {
   "cell_type": "code",
   "execution_count": null,
   "metadata": {},
   "outputs": [],
   "source": [
    "user_entries = ['10', '19.1', '20']\n",
    "\n",
    "user_numbers=[]\n",
    "for item in user_entries:\n",
    "    user_numbers.append(float(item))\n",
    "    \n",
    "print(sum(user_numbers))\n",
    "\n"
   ]
  },
  {
   "cell_type": "code",
   "execution_count": null,
   "metadata": {},
   "outputs": [],
   "source": [
    "user_entries = ['10', '19.1', '20']\n",
    "\n",
    "user_numbers=[]\n",
    "for item in user_entries:\n",
    "   numbers=float(item)\n",
    "   user_numbers.append(numbers)\n",
    "\n",
    "    \n",
    "print(sum(user_numbers))\n",
    "\n",
    " "
   ]
  }
 ],
 "metadata": {
  "kernelspec": {
   "display_name": "venv",
   "language": "python",
   "name": "python3"
  },
  "language_info": {
   "codemirror_mode": {
    "name": "ipython",
    "version": 3
   },
   "file_extension": ".py",
   "mimetype": "text/x-python",
   "name": "python",
   "nbconvert_exporter": "python",
   "pygments_lexer": "ipython3",
   "version": "3.10.11"
  },
  "orig_nbformat": 4
 },
 "nbformat": 4,
 "nbformat_minor": 2
}
