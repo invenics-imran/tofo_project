{
 "cells": [
  {
   "cell_type": "code",
   "execution_count": 2,
   "metadata": {},
   "outputs": [
    {
     "name": "stdout",
     "output_type": "stream",
     "text": [
      "Add\n",
      "{'todo': 'adf'}\n",
      "None\n",
      "None\n"
     ]
    }
   ],
   "source": [
    "import function\n",
    "import PySimpleGUI\n",
    "\n",
    "\n",
    "label=PySimpleGUI.Text(\"Type in a Todo\")\n",
    "inpu_box=PySimpleGUI.InputText(tooltip=\"enter todo\", key=\"todo\")\n",
    "add_button=PySimpleGUI.Button(\"Add\")\n",
    "# two instances\n",
    "# tooltip to show what cursor should show when keep ther\n",
    "# key todo is the key in key value pair of the tuple in event in the window.read()\n",
    "\n",
    "window=PySimpleGUI.Window('My To-do app', \n",
    "                          layout=[[label],[inpu_box,add_button]], \n",
    "                          font=('Helvetica', 20))\n",
    "\n",
    "# the object we put inside inner [] will be in same row \n",
    "# if we put [] [] seperately them=n it will be in row wise    \n",
    "\n",
    "# print(event,vlaue) -> this prints event value tuple.\n",
    "while True:\n",
    "    event, value =window.read()\n",
    "    print(event)\n",
    "    print(value)\n",
    "    match event:\n",
    "        case \"Add\":\n",
    "            todos=function.get_todos()\n",
    "            new_todo=value['todo'] + '\\n'\n",
    "            todos.append(new_todo)\n",
    "            # print(todos)\n",
    "            function.write_todos(todos)\n",
    "        \n",
    "        case PySimpleGUI.WIN_CLOSED:\n",
    "            break\n",
    "\n",
    "\n",
    "\n",
    "window.close()\n",
    "\n"
   ]
  }
 ],
 "metadata": {
  "kernelspec": {
   "display_name": ".venv",
   "language": "python",
   "name": "python3"
  },
  "language_info": {
   "codemirror_mode": {
    "name": "ipython",
    "version": 3
   },
   "file_extension": ".py",
   "mimetype": "text/x-python",
   "name": "python",
   "nbconvert_exporter": "python",
   "pygments_lexer": "ipython3",
   "version": "3.10.11"
  }
 },
 "nbformat": 4,
 "nbformat_minor": 2
}
