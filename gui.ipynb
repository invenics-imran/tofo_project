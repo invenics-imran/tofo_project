{
 "cells": [
  {
   "cell_type": "code",
   "execution_count": 10,
   "metadata": {},
   "outputs": [
    {
     "name": "stdout",
     "output_type": "stream",
     "text": [
      "1 None\n",
      "2 {'todo': None, 'todos': None}\n",
      "3 None\n",
      "bye\n"
     ]
    }
   ],
   "source": [
    "import function\n",
    "import PySimpleGUI\n",
    "\n",
    "\n",
    "label=PySimpleGUI.Text(\"Type in a Todo\")\n",
    "inpu_box=PySimpleGUI.InputText(tooltip=\"enter todo\", key=\"todo\")\n",
    "add_button=PySimpleGUI.Button(\"Add\")\n",
    "# two instances\n",
    "# tooltip to show what cursor should show when keep ther\n",
    "# key todo is the key in key value pair of the tuple in event in the window.read()\n",
    "\n",
    "list_box=PySimpleGUI.Listbox(values=function.get_todos(), key='todos' , \n",
    "                             enable_events=True , size=[45,10])\n",
    "edit_button=PySimpleGUI.Button(\"Edit\")\n",
    "\n",
    "\n",
    "\n",
    "window=PySimpleGUI.Window('My To-do app', \n",
    "                          layout=[[label],[inpu_box,add_button], [list_box,edit_button]], \n",
    "                          font=('Helvetica', 15))\n",
    "\n",
    "# the object we put inside inner [] will be in same row \n",
    "# if we put [] [] seperately them=n it will be in row wise    \n",
    "\n",
    "# print(event,vlaue) -> this prints event value tuple.\n",
    "while True:\n",
    "    event, values =window.read()\n",
    "    print(1, event)\n",
    "    print(2, values)\n",
    "    print(3, values['todos'])\n",
    "    match event:\n",
    "        case \"Add\":\n",
    "            todos=function.get_todos()\n",
    "            new_todo=values['todo'] + '\\n'\n",
    "            todos.append(new_todo)\n",
    "            # print(todos)\n",
    "            function.write_todos(todos)\n",
    "            window['todos'].update(values=todos)\n",
    "\n",
    "        case \"Edit\":\n",
    "            todo_to_edit= values['todos'][0]\n",
    "            new_todo=values['todo']\n",
    "\n",
    "            todos=function.get_todos()\n",
    "            index=todos.index(todo_to_edit)\n",
    "            todos[index]=new_todo\n",
    "\n",
    "            function.write_todos(todos)\n",
    "\n",
    "            window['todos'].update(values=todos)\n",
    "\n",
    "        case 'todos':\n",
    "            window['todo'].update(value=values['todos'][0])\n",
    "\n",
    "        case PySimpleGUI.WIN_CLOSED:\n",
    "            break\n",
    "\n",
    "\n",
    "\n",
    "print(\"bye\")\n",
    "window.close()\n",
    "\n"
   ]
  }
 ],
 "metadata": {
  "kernelspec": {
   "display_name": ".venv",
   "language": "python",
   "name": "python3"
  },
  "language_info": {
   "codemirror_mode": {
    "name": "ipython",
    "version": 3
   },
   "file_extension": ".py",
   "mimetype": "text/x-python",
   "name": "python",
   "nbconvert_exporter": "python",
   "pygments_lexer": "ipython3",
   "version": "3.10.11"
  }
 },
 "nbformat": 4,
 "nbformat_minor": 2
}
