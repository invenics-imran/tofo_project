{
 "cells": [
  {
   "cell_type": "code",
   "execution_count": 33,
   "metadata": {},
   "outputs": [
    {
     "name": "stdout",
     "output_type": "stream",
     "text": [
      "hello\n"
     ]
    }
   ],
   "source": [
    "import function\n",
    "import PySimpleGUI\n",
    "\n",
    "\n",
    "label=PySimpleGUI.Text(\"Type in a Todo\")\n",
    "inpu_box=PySimpleGUI.InputText(tooltip=\"enter todo\")\n",
    "add_button=PySimpleGUI.Button(\"Add\")\n",
    "# two instances\n",
    "# tooltip to show what cursor should show when keep ther\n",
    "# \n",
    "\n",
    "window=PySimpleGUI.Window('My To-do app', layout=[[label],[inpu_box,add_button]])\n",
    "\n",
    "# the object we put inside inner [] will be in same row \n",
    "# if we put [] [] seperately them=n it will be in row wise    \n",
    "window.read()\n",
    "print(\"hello\")\n",
    "window.close()\n",
    "\n"
   ]
  }
 ],
 "metadata": {
  "kernelspec": {
   "display_name": ".venv",
   "language": "python",
   "name": "python3"
  },
  "language_info": {
   "codemirror_mode": {
    "name": "ipython",
    "version": 3
   },
   "file_extension": ".py",
   "mimetype": "text/x-python",
   "name": "python",
   "nbconvert_exporter": "python",
   "pygments_lexer": "ipython3",
   "version": "3.10.11"
  }
 },
 "nbformat": 4,
 "nbformat_minor": 2
}
