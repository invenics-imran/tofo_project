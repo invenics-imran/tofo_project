{
 "cells": [
  {
   "cell_type": "code",
   "execution_count": 1,
   "metadata": {},
   "outputs": [
    {
     "name": "stdout",
     "output_type": "stream",
     "text": [
      "['C:/Users/ImranSajawal/proj/my_project/app1/trial/a.txt', 'C:/Users/ImranSajawal/proj/my_project/app1/trial/b.txt']\n",
      "Compres\n",
      "{0: 'C:/Users/ImranSajawal/proj/my_project/app1/trial/a.txt;C:/Users/ImranSajawal/proj/my_project/app1/trial/b.txt', 'files': 'C:/Users/ImranSajawal/proj/my_project/app1/trial/a.txt;C:/Users/ImranSajawal/proj/my_project/app1/trial/b.txt', 1: 'C:/Users/ImranSajawal/proj/my_project/app1/trial', 'folder': 'C:/Users/ImranSajawal/proj/my_project/app1/trial'}\n"
     ]
    },
    {
     "ename": "TypeError",
     "evalue": "'NoneType' object is not subscriptable",
     "output_type": "error",
     "traceback": [
      "\u001b[1;31m---------------------------------------------------------------------------\u001b[0m",
      "\u001b[1;31mTypeError\u001b[0m                                 Traceback (most recent call last)",
      "\u001b[1;32mc:\\Users\\ImranSajawal\\proj\\my_project\\app1\\bonus\\bonus17.ipynb Cell 1\u001b[0m line \u001b[0;36m2\n\u001b[0;32m     <a href='vscode-notebook-cell:/c%3A/Users/ImranSajawal/proj/my_project/app1/bonus/bonus17.ipynb#W0sZmlsZQ%3D%3D?line=24'>25</a>\u001b[0m \u001b[39mwhile\u001b[39;00m \u001b[39mTrue\u001b[39;00m:\n\u001b[0;32m     <a href='vscode-notebook-cell:/c%3A/Users/ImranSajawal/proj/my_project/app1/bonus/bonus17.ipynb#W0sZmlsZQ%3D%3D?line=25'>26</a>\u001b[0m         event,values\u001b[39m=\u001b[39m window\u001b[39m.\u001b[39mread()\n\u001b[1;32m---> <a href='vscode-notebook-cell:/c%3A/Users/ImranSajawal/proj/my_project/app1/bonus/bonus17.ipynb#W0sZmlsZQ%3D%3D?line=26'>27</a>\u001b[0m         filepaths\u001b[39m=\u001b[39mvalues[\u001b[39m\"\u001b[39;49m\u001b[39mfiles\u001b[39;49m\u001b[39m\"\u001b[39;49m]\u001b[39m.\u001b[39msplit(\u001b[39m'\u001b[39m\u001b[39m;\u001b[39m\u001b[39m'\u001b[39m)\n\u001b[0;32m     <a href='vscode-notebook-cell:/c%3A/Users/ImranSajawal/proj/my_project/app1/bonus/bonus17.ipynb#W0sZmlsZQ%3D%3D?line=27'>28</a>\u001b[0m         folderpath\u001b[39m=\u001b[39mvalues[\u001b[39m\"\u001b[39m\u001b[39mfolder\u001b[39m\u001b[39m\"\u001b[39m]\n\u001b[0;32m     <a href='vscode-notebook-cell:/c%3A/Users/ImranSajawal/proj/my_project/app1/bonus/bonus17.ipynb#W0sZmlsZQ%3D%3D?line=28'>29</a>\u001b[0m         \u001b[39m# print(values[\"files\"])\u001b[39;00m\n\u001b[0;32m     <a href='vscode-notebook-cell:/c%3A/Users/ImranSajawal/proj/my_project/app1/bonus/bonus17.ipynb#W0sZmlsZQ%3D%3D?line=29'>30</a>\u001b[0m         \u001b[39m# print(values[\"folder\"])\u001b[39;00m\n",
      "\u001b[1;31mTypeError\u001b[0m: 'NoneType' object is not subscriptable"
     ]
    }
   ],
   "source": [
    "import PySimpleGUI as sg\n",
    "from zipcreator import make_archive\n",
    "\n",
    "\n",
    "label1=sg.Text(\"select files to compress\")\n",
    "input1=sg.InputText()\n",
    "choose_button1=sg.FilesBrowse(\"choose\", key=\"files\")\n",
    "\n",
    "label2=sg.Text(\"select destination folder\")\n",
    "input2=sg.InputText()\n",
    "choose_button2=sg.FolderBrowse(\"choose\", key=\"folder\")\n",
    "\n",
    "compress_button=sg.Button(\"Compres\")\n",
    "output_label=sg.Text(key=\"output\")\n",
    "\n",
    "window=sg.Window(\"files compressor\", layout=[[label1,input1,choose_button1],\n",
    "                                             [label2,input2,choose_button2],\n",
    "                                             [compress_button,output_label]])\n",
    "\n",
    "# Compress\n",
    "# {0: 'C:/Users/ImranSajawal/proj/my_project/app1/trial/a.txt;C:/Users/ImranSajawal/proj/my_project/app1/trial/b.txt', 'choose': 'C:/Users/ImranSajawal/proj/my_project/app1/trial/a.txt;C:/Users/ImranSajawal/proj/my_project/app1/trial/b.txt', 1: 'C:/Users/ImranSajawal/proj/my_project/app1/trial', 'choose0': 'C:/Users/ImranSajawal/proj/my_project/app1/trial'}\n",
    "# this will be the output if we choose a,b for files to compress and trial for compress file and since both inout1 and inout2 have same value as choose button it will have same value as in output.\n",
    "\n",
    "\n",
    "while True:\n",
    "        event,values= window.read()\n",
    "        filepaths=values[\"files\"].split(';')\n",
    "        folderpath=values[\"folder\"]\n",
    "        # print(values[\"files\"])\n",
    "        # print(values[\"folder\"])\n",
    "        print(filepaths)\n",
    "        make_archive(filepaths,folderpath)\n",
    "        print(event)\n",
    "        print(values)\n",
    "        window[\"output\"].update(value=\"comression completed\")\n",
    "\n",
    "\n",
    "\n",
    "window.close()"
   ]
  }
 ],
 "metadata": {
  "kernelspec": {
   "display_name": ".venv",
   "language": "python",
   "name": "python3"
  },
  "language_info": {
   "codemirror_mode": {
    "name": "ipython",
    "version": 3
   },
   "file_extension": ".py",
   "mimetype": "text/x-python",
   "name": "python",
   "nbconvert_exporter": "python",
   "pygments_lexer": "ipython3",
   "version": "3.10.11"
  }
 },
 "nbformat": 4,
 "nbformat_minor": 2
}
