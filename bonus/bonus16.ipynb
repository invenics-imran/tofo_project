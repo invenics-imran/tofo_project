{
 "cells": [
  {
   "cell_type": "code",
   "execution_count": 10,
   "metadata": {},
   "outputs": [
    {
     "name": "stdout",
     "output_type": "stream",
     "text": [
      "Compress\n",
      "{0: 'C:/Users/ImranSajawal/proj/my_project/app1/trial/a.txt;C:/Users/ImranSajawal/proj/my_project/app1/trial/b.txt', 'files': 'C:/Users/ImranSajawal/proj/my_project/app1/trial/a.txt;C:/Users/ImranSajawal/proj/my_project/app1/trial/b.txt', 1: 'C:/Users/ImranSajawal/proj/my_project/app1/trial', 'folder': 'C:/Users/ImranSajawal/proj/my_project/app1/trial'}\n"
     ]
    },
    {
     "ename": "KeyboardInterrupt",
     "evalue": "",
     "output_type": "error",
     "traceback": [
      "\u001b[1;31m---------------------------------------------------------------------------\u001b[0m",
      "\u001b[1;31mKeyboardInterrupt\u001b[0m                         Traceback (most recent call last)",
      "\u001b[1;32mc:\\Users\\ImranSajawal\\proj\\my_project\\app1\\bonus\\bonus16.ipynb Cell 1\u001b[0m line \u001b[0;36m2\n\u001b[0;32m     <a href='vscode-notebook-cell:/c%3A/Users/ImranSajawal/proj/my_project/app1/bonus/bonus16.ipynb#W0sZmlsZQ%3D%3D?line=17'>18</a>\u001b[0m \u001b[39m# Compress\u001b[39;00m\n\u001b[0;32m     <a href='vscode-notebook-cell:/c%3A/Users/ImranSajawal/proj/my_project/app1/bonus/bonus16.ipynb#W0sZmlsZQ%3D%3D?line=18'>19</a>\u001b[0m \u001b[39m# {0: 'C:/Users/ImranSajawal/proj/my_project/app1/trial/a.txt;C:/Users/ImranSajawal/proj/my_project/app1/trial/b.txt', 'choose': 'C:/Users/ImranSajawal/proj/my_project/app1/trial/a.txt;C:/Users/ImranSajawal/proj/my_project/app1/trial/b.txt', 1: 'C:/Users/ImranSajawal/proj/my_project/app1/trial', 'choose0': 'C:/Users/ImranSajawal/proj/my_project/app1/trial'}\u001b[39;00m\n\u001b[0;32m     <a href='vscode-notebook-cell:/c%3A/Users/ImranSajawal/proj/my_project/app1/bonus/bonus16.ipynb#W0sZmlsZQ%3D%3D?line=19'>20</a>\u001b[0m \u001b[39m# this will be the output if we choose a,b for files to compress and trial for compress file and since both inout1 and inout2 have same value as choose button it will have same value as in output.\u001b[39;00m\n\u001b[0;32m     <a href='vscode-notebook-cell:/c%3A/Users/ImranSajawal/proj/my_project/app1/bonus/bonus16.ipynb#W0sZmlsZQ%3D%3D?line=22'>23</a>\u001b[0m \u001b[39mwhile\u001b[39;00m \u001b[39mTrue\u001b[39;00m:\n\u001b[1;32m---> <a href='vscode-notebook-cell:/c%3A/Users/ImranSajawal/proj/my_project/app1/bonus/bonus16.ipynb#W0sZmlsZQ%3D%3D?line=23'>24</a>\u001b[0m         event,values\u001b[39m=\u001b[39m window\u001b[39m.\u001b[39;49mread()\n\u001b[0;32m     <a href='vscode-notebook-cell:/c%3A/Users/ImranSajawal/proj/my_project/app1/bonus/bonus16.ipynb#W0sZmlsZQ%3D%3D?line=24'>25</a>\u001b[0m         \u001b[39mprint\u001b[39m(event)\n\u001b[0;32m     <a href='vscode-notebook-cell:/c%3A/Users/ImranSajawal/proj/my_project/app1/bonus/bonus16.ipynb#W0sZmlsZQ%3D%3D?line=25'>26</a>\u001b[0m         \u001b[39mprint\u001b[39m(values)\n",
      "File \u001b[1;32mc:\\Users\\ImranSajawal\\proj\\my_project\\app1\\.venv\\lib\\site-packages\\PySimpleGUI\\PySimpleGUI.py:10079\u001b[0m, in \u001b[0;36mWindow.read\u001b[1;34m(self, timeout, timeout_key, close)\u001b[0m\n\u001b[0;32m  10077\u001b[0m \u001b[39mwhile\u001b[39;00m \u001b[39mTrue\u001b[39;00m:\n\u001b[0;32m  10078\u001b[0m     Window\u001b[39m.\u001b[39m_root_running_mainloop \u001b[39m=\u001b[39m \u001b[39mself\u001b[39m\u001b[39m.\u001b[39mTKroot\n\u001b[1;32m> 10079\u001b[0m     results \u001b[39m=\u001b[39m \u001b[39mself\u001b[39;49m\u001b[39m.\u001b[39;49m_read(timeout\u001b[39m=\u001b[39;49mtimeout, timeout_key\u001b[39m=\u001b[39;49mtimeout_key)\n\u001b[0;32m  10080\u001b[0m     \u001b[39mif\u001b[39;00m results \u001b[39mis\u001b[39;00m \u001b[39mnot\u001b[39;00m \u001b[39mNone\u001b[39;00m:\n\u001b[0;32m  10081\u001b[0m         \u001b[39mif\u001b[39;00m results[\u001b[39m0\u001b[39m] \u001b[39m==\u001b[39m DEFAULT_WINDOW_SNAPSHOT_KEY:\n",
      "File \u001b[1;32mc:\\Users\\ImranSajawal\\proj\\my_project\\app1\\.venv\\lib\\site-packages\\PySimpleGUI\\PySimpleGUI.py:10207\u001b[0m, in \u001b[0;36mWindow._read\u001b[1;34m(self, timeout, timeout_key)\u001b[0m\n\u001b[0;32m  10204\u001b[0m \u001b[39m# self.TKroot.protocol(\"WM_DESTROY_WINDOW\", self._OnClosingCallback)\u001b[39;00m\n\u001b[0;32m  10205\u001b[0m \u001b[39m# self.TKroot.protocol(\"WM_DELETE_WINDOW\", self._OnClosingCallback)\u001b[39;00m\n\u001b[0;32m  10206\u001b[0m Window\u001b[39m.\u001b[39m_window_running_mainloop \u001b[39m=\u001b[39m \u001b[39mself\u001b[39m\n\u001b[1;32m> 10207\u001b[0m Window\u001b[39m.\u001b[39;49m_root_running_mainloop\u001b[39m.\u001b[39;49mmainloop()\n\u001b[0;32m  10209\u001b[0m \u001b[39m# print('Out main')\u001b[39;00m\n\u001b[0;32m  10210\u001b[0m \u001b[39mself\u001b[39m\u001b[39m.\u001b[39mCurrentlyRunningMainloop \u001b[39m=\u001b[39m \u001b[39mFalse\u001b[39;00m\n",
      "File \u001b[1;32mC:\\Program Files\\WindowsApps\\PythonSoftwareFoundation.Python.3.10_3.10.3056.0_x64__qbz5n2kfra8p0\\lib\\tkinter\\__init__.py:1458\u001b[0m, in \u001b[0;36mMisc.mainloop\u001b[1;34m(self, n)\u001b[0m\n\u001b[0;32m   1456\u001b[0m \u001b[39mdef\u001b[39;00m \u001b[39mmainloop\u001b[39m(\u001b[39mself\u001b[39m, n\u001b[39m=\u001b[39m\u001b[39m0\u001b[39m):\n\u001b[0;32m   1457\u001b[0m \u001b[39m    \u001b[39m\u001b[39m\"\"\"Call the mainloop of Tk.\"\"\"\u001b[39;00m\n\u001b[1;32m-> 1458\u001b[0m     \u001b[39mself\u001b[39;49m\u001b[39m.\u001b[39;49mtk\u001b[39m.\u001b[39;49mmainloop(n)\n",
      "\u001b[1;31mKeyboardInterrupt\u001b[0m: "
     ]
    }
   ],
   "source": [
    "import PySimpleGUI as sg\n",
    "from zipcreator import make_archive\n",
    "\n",
    "\n",
    "label1=sg.Text(\"select files to compress\")\n",
    "input1=sg.InputText()\n",
    "choose_button1=sg.FilesBrowse(\"choose\", key=\"files\")\n",
    "\n",
    "label2=sg.Text(\"select destination folder\")\n",
    "input2=sg.InputText()\n",
    "choose_button2=sg.FolderBrowse(\"choose\", key=\"folder\")\n",
    "\n",
    "compress_button=sg.Button(\"Compress\")\n",
    "window=sg.Window(\"files compressor\", layout=[[label1,input1,choose_button1],\n",
    "                                             [label2,input2,choose_button2],\n",
    "                                             [compress_button]])\n",
    "\n",
    "# Compress\n",
    "# {0: 'C:/Users/ImranSajawal/proj/my_project/app1/trial/a.txt;C:/Users/ImranSajawal/proj/my_project/app1/trial/b.txt', 'choose': 'C:/Users/ImranSajawal/proj/my_project/app1/trial/a.txt;C:/Users/ImranSajawal/proj/my_project/app1/trial/b.txt', 1: 'C:/Users/ImranSajawal/proj/my_project/app1/trial', 'choose0': 'C:/Users/ImranSajawal/proj/my_project/app1/trial'}\n",
    "# this will be the output if we choose a,b for files to compress and trial for compress file and since both inout1 and inout2 have same value as choose button it will have same value as in output.\n",
    "\n",
    "\n",
    "while True:\n",
    "        event,values= window.read()\n",
    "        print(event)\n",
    "        print(values)\n",
    "        filepaths=values[\"files\"].split(';')\n",
    "        folderpath=values[\"folder\"]\n",
    "        make_archive(filepaths,folderpath)\n",
    "\n",
    "\n",
    "window.close()"
   ]
  }
 ],
 "metadata": {
  "kernelspec": {
   "display_name": ".venv",
   "language": "python",
   "name": "python3"
  },
  "language_info": {
   "codemirror_mode": {
    "name": "ipython",
    "version": 3
   },
   "file_extension": ".py",
   "mimetype": "text/x-python",
   "name": "python",
   "nbconvert_exporter": "python",
   "pygments_lexer": "ipython3",
   "version": "3.10.11"
  }
 },
 "nbformat": 4,
 "nbformat_minor": 2
}
