{
 "cells": [
  {
   "cell_type": "code",
   "execution_count": 8,
   "metadata": {},
   "outputs": [],
   "source": [
    "import PySimpleGUI as sg\n",
    "\n",
    "label1=sg.Text(\"select files to compress\")\n",
    "input1=sg.InputText()\n",
    "choose_button1=sg.FilesBrowse(\"choose\")\n",
    "\n",
    "label2=sg.Text(\"select destination folder\")\n",
    "input2=sg.InputText()\n",
    "choose_button2=sg.FolderBrowse(\"choose\")\n",
    "\n",
    "window=sg.Window(\"files compressor\", layout=[[label1,input1,choose_button1],[label2,input2,choose_button2]])\n",
    "window.read()\n",
    "window.close()"
   ]
  }
 ],
 "metadata": {
  "kernelspec": {
   "display_name": ".venv",
   "language": "python",
   "name": "python3"
  },
  "language_info": {
   "codemirror_mode": {
    "name": "ipython",
    "version": 3
   },
   "file_extension": ".py",
   "mimetype": "text/x-python",
   "name": "python",
   "nbconvert_exporter": "python",
   "pygments_lexer": "ipython3",
   "version": "3.10.11"
  }
 },
 "nbformat": 4,
 "nbformat_minor": 2
}
