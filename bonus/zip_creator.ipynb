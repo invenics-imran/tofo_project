{
 "cells": [
  {
   "cell_type": "code",
   "execution_count": 20,
   "metadata": {},
   "outputs": [],
   "source": [
    "import zipfile\n",
    "import pathlib\n",
    "\n",
    "\n",
    "def make_archive(filepaths, dest_dir):\n",
    "    \n",
    "    dest_path=pathlib.Path(dest_dir,\"compressd.zip\")\n",
    "    with zipfile.ZipFile(dest_path, 'w') as archive:\n",
    "        for filepath in filepaths:\n",
    "            archive.write(filepath)\n",
    "\n",
    "\n",
    "\n",
    "if __name__==\"__main__\":\n",
    "    make_archive(filepaths=[\"bonus6.ipynb\",\"bonus8.ipynb\"], dest_dir=\"dest\")\n",
    "\n",
    "\n",
    "# this or the below snippet can be used\n"
   ]
  },
  {
   "cell_type": "code",
   "execution_count": 18,
   "metadata": {},
   "outputs": [],
   "source": [
    "import zipfile\n",
    "# import pathlib\n",
    "\n",
    "\n",
    "def make_archive(filepaths, dest_dir):\n",
    "    \n",
    "    # dest_path=pathlib.Path(dest_dir,\"compressd.zip\")\n",
    "    with zipfile.ZipFile(f'{dest_dir}/ compressed.zip', 'w') as archive:\n",
    "        for filepath in filepaths:\n",
    "            archive.write(filepath)\n",
    "\n",
    "\n",
    "\n",
    "if __name__==\"__main__\":\n",
    "    make_archive(filepaths=[\"bonus6.ipynb\",\"bonus8.ipynb\"], dest_dir=\"dest\")\n"
   ]
  }
 ],
 "metadata": {
  "kernelspec": {
   "display_name": ".venv",
   "language": "python",
   "name": "python3"
  },
  "language_info": {
   "codemirror_mode": {
    "name": "ipython",
    "version": 3
   },
   "file_extension": ".py",
   "mimetype": "text/x-python",
   "name": "python",
   "nbconvert_exporter": "python",
   "pygments_lexer": "ipython3",
   "version": "3.10.11"
  }
 },
 "nbformat": 4,
 "nbformat_minor": 2
}
