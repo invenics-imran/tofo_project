{
 "cells": [
  {
   "cell_type": "code",
   "execution_count": 3,
   "metadata": {},
   "outputs": [],
   "source": [
    "date=input(\"enter todays date\")\n",
    "mood =input(\"how do u rate your mood from 1 to 10\")\n",
    "thoughts=input(\"let ur  thoughts flow : \\n\")\n",
    "\n",
    "\n",
    "with open(f\"../journal/{date}.txt\", \"w\") as file:\n",
    "    file.write(mood+ 2*\"\\n\")\n",
    "    file.write(thoughts)\n"
   ]
  }
 ],
 "metadata": {
  "kernelspec": {
   "display_name": "venv",
   "language": "python",
   "name": "python3"
  },
  "language_info": {
   "codemirror_mode": {
    "name": "ipython",
    "version": 3
   },
   "file_extension": ".py",
   "mimetype": "text/x-python",
   "name": "python",
   "nbconvert_exporter": "python",
   "pygments_lexer": "ipython3",
   "version": "3.10.11"
  },
  "orig_nbformat": 4
 },
 "nbformat": 4,
 "nbformat_minor": 2
}
