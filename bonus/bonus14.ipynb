{
 "cells": [
  {
   "cell_type": "code",
   "execution_count": 4,
   "metadata": {},
   "outputs": [
    {
     "name": "stdout",
     "output_type": "stream",
     "text": [
      "5.0 feet and 7.0 inches is equal to 1.7018\n"
     ]
    }
   ],
   "source": [
    "\n",
    "# from parsers14 import parse\n",
    "from converters14 import convert\n",
    "import parsers14\n",
    "feet_inches=input(\"enter feet and inches: \")\n",
    "\n",
    "\n",
    "\n",
    "parsed=parsers14.parse(feet_inches)\n",
    "result=convert(parsed['feet'],parsed['inches'])\n",
    "\n",
    "print(f\"{parsed['feet']} feet and {parsed['inches']} inches is equal to {result}\")\n",
    "\n"
   ]
  }
 ],
 "metadata": {
  "kernelspec": {
   "display_name": "venv",
   "language": "python",
   "name": "python3"
  },
  "language_info": {
   "codemirror_mode": {
    "name": "ipython",
    "version": 3
   },
   "file_extension": ".py",
   "mimetype": "text/x-python",
   "name": "python",
   "nbconvert_exporter": "python",
   "pygments_lexer": "ipython3",
   "version": "3.10.11"
  }
 },
 "nbformat": 4,
 "nbformat_minor": 2
}
