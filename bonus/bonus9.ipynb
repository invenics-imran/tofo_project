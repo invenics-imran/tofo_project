{
 "cells": [
  {
   "cell_type": "code",
   "execution_count": 6,
   "metadata": {},
   "outputs": [
    {
     "name": "stdout",
     "output_type": "stream",
     "text": [
      "[False, False, False]\n",
      "False\n",
      "Weak Password\n"
     ]
    }
   ],
   "source": [
    "# to check if password is weaj k or strong usiing list \n",
    "\n",
    "\n",
    "password=input(\"enter new password: \")\n",
    "\n",
    "result=[]\n",
    "\n",
    "if len(password) >= 8:\n",
    "    result.append(True)\n",
    "\n",
    "else:\n",
    "    result.append(False)\n",
    "\n",
    "digit=False\n",
    "for i in password:\n",
    "    if i.isdigit():\n",
    "        digit=True\n",
    "\n",
    "result.append(digit)\n",
    "\n",
    "upper=False\n",
    "for i in password:\n",
    "    if i.isupper():\n",
    "        upper=True\n",
    "result.append(upper)\n",
    "        \n",
    "\n",
    "print(result)\n",
    "print(all(result))\n",
    "\n",
    "if all(result) == True:\n",
    "    print(\"Strong Password\")\n",
    "else:\n",
    "    print(\"Weak Password\")\n",
    "    \n",
    "\n",
    "# b={\"height\":12,\"width\":32, \"depth\":44}\n",
    "\n"
   ]
  }
 ],
 "metadata": {
  "kernelspec": {
   "display_name": "venv",
   "language": "python",
   "name": "python3"
  },
  "language_info": {
   "codemirror_mode": {
    "name": "ipython",
    "version": 3
   },
   "file_extension": ".py",
   "mimetype": "text/x-python",
   "name": "python",
   "nbconvert_exporter": "python",
   "pygments_lexer": "ipython3",
   "version": "3.10.11"
  },
  "orig_nbformat": 4
 },
 "nbformat": 4,
 "nbformat_minor": 2
}
