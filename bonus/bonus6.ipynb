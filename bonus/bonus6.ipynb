{
 "cells": [
  {
   "cell_type": "code",
   "execution_count": 9,
   "metadata": {},
   "outputs": [
    {
     "name": "stdout",
     "output_type": "stream",
     "text": [
      "hi my name is imran \n",
      "hi my name is imran \n",
      "hi my name is imran \n"
     ]
    }
   ],
   "source": [
    "contents=[\"goestodoc.txt\",\"goestoreport.txt\",\"wiherwuerhiuwe\"]\n",
    "\n",
    "filenames=[\"doc.txt\",\"report.txt\",\"presentation.txt\"]\n",
    "\n",
    "for content,filename in zip(contents,filenames):\n",
    "    file=open(f\"files/{filename}\", 'w')\n",
    "    file.write(content)\n",
    "    file.close()\n",
    "    "
   ]
  }
 ],
 "metadata": {
  "kernelspec": {
   "display_name": "venv",
   "language": "python",
   "name": "python3"
  },
  "language_info": {
   "codemirror_mode": {
    "name": "ipython",
    "version": 3
   },
   "file_extension": ".py",
   "mimetype": "text/x-python",
   "name": "python",
   "nbconvert_exporter": "python",
   "pygments_lexer": "ipython3",
   "version": "3.10.11"
  },
  "orig_nbformat": 4
 },
 "nbformat": 4,
 "nbformat_minor": 2
}
