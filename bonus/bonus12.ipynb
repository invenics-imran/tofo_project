{
 "cells": [
  {
   "cell_type": "code",
   "execution_count": 1,
   "metadata": {},
   "outputs": [
    {
     "name": "stdout",
     "output_type": "stream",
     "text": [
      "5.0 feet and 12.0 inches is equal to 1.8288 meters \n"
     ]
    }
   ],
   "source": [
    "feet_inches=input(\"enter feet and inches: \")\n",
    "\n",
    "def convert(feet_inches):\n",
    "    part=feet_inches.split(\" \")\n",
    "    feet=float(part[0]) \n",
    "    inches=float(part[1])\n",
    "\n",
    "    meters=feet*0.3048 + inches*0.0254 \n",
    "    return f\"{feet} feet and {inches} inches is equal to {meters} meters \"\n",
    "print(convert(feet_inches))\n",
    "\n"
   ]
  }
 ],
 "metadata": {
  "kernelspec": {
   "display_name": "venv",
   "language": "python",
   "name": "python3"
  },
  "language_info": {
   "codemirror_mode": {
    "name": "ipython",
    "version": 3
   },
   "file_extension": ".py",
   "mimetype": "text/x-python",
   "name": "python",
   "nbconvert_exporter": "python",
   "pygments_lexer": "ipython3",
   "version": "3.10.11"
  },
  "orig_nbformat": 4
 },
 "nbformat": 4,
 "nbformat_minor": 2
}
