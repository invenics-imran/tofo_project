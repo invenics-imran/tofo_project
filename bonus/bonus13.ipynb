{
 "cells": [
  {
   "cell_type": "code",
   "execution_count": 6,
   "metadata": {},
   "outputs": [
    {
     "name": "stdout",
     "output_type": "stream",
     "text": [
      "3.0 feet and 13.0 inches is equal to 1.2446000000000002\n"
     ]
    }
   ],
   "source": [
    "feet_inches=input(\"enter feet and inches: \")\n",
    "def parse(feet_inches):\n",
    "    part=feet_inches.split(\" \")\n",
    "    feet=float(part[0])\n",
    "    inches=float(part[1])\n",
    "    stud={\"feet\":feet,\"inches\":inches}\n",
    "    return stud\n",
    "    \n",
    "def convert(feet,inches):\n",
    "\n",
    "    meters=feet*0.3048 + inches*0.0254 \n",
    "    return meters\n",
    "\n",
    "parsed=parse(feet_inches)\n",
    "result=convert(parsed['feet'],parsed['inches'])\n",
    "\n",
    "print(f\"{parsed['feet']} feet and {parsed['inches']} inches is equal to {result}\")\n",
    "\n"
   ]
  }
 ],
 "metadata": {
  "kernelspec": {
   "display_name": "venv",
   "language": "python",
   "name": "python3"
  },
  "language_info": {
   "codemirror_mode": {
    "name": "ipython",
    "version": 3
   },
   "file_extension": ".py",
   "mimetype": "text/x-python",
   "name": "python",
   "nbconvert_exporter": "python",
   "pygments_lexer": "ipython3",
   "version": "3.10.11"
  }
 },
 "nbformat": 4,
 "nbformat_minor": 2
}
