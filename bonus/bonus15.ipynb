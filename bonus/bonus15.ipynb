{
 "cells": [
  {
   "cell_type": "code",
   "execution_count": 25,
   "metadata": {},
   "outputs": [
    {
     "name": "stdout",
     "output_type": "stream",
     "text": [
      "[{'question_text': 'what are dolphins?', 'alternatives': ['ambjipbeans', 'fish', 'mamals', 'birds'], 'correct_answer': 3}, {'question_text': 'what occupy most of earth?', 'alternatives': ['land', 'water', 'mamals'], 'correct_answer': 2}]\n",
      "<class 'list'>\n",
      "<class 'str'>\n",
      "what are dolphins?\n",
      "1   ambjipbeans\n",
      "2   fish\n",
      "3   mamals\n",
      "4   birds\n",
      "what occupy most of earth?\n",
      "1   land\n",
      "2   water\n",
      "3   mamals\n",
      "1 correct answer-Your answer: 3,correct answer:  3\n",
      "2 correct answer-Your answer: 2,correct answer:  2\n",
      "[{'question_text': 'what are dolphins?', 'alternatives': ['ambjipbeans', 'fish', 'mamals', 'birds'], 'correct_answer': 3, 'user_choice': 3}, {'question_text': 'what occupy most of earth?', 'alternatives': ['land', 'water', 'mamals'], 'correct_answer': 2, 'user_choice': 2}]\n",
      "2 / 2\n"
     ]
    }
   ],
   "source": [
    "import json\n",
    "\n",
    "with open(\"question.json\",'r') as file:\n",
    "    content=file.read()\n",
    "\n",
    "data=json.loads(content)\n",
    "\n",
    "print(data)\n",
    "print(type(data))\n",
    "print(type(content))\n",
    "\n",
    "\n",
    "\n",
    "for question in data:\n",
    "    print(question[\"question_text\"])\n",
    "    for index,alternative in enumerate(question[\"alternatives\"]):\n",
    "        print(index+1,\" \",alternative)\n",
    "    user=int(input(\"enter ur answer: \"))\n",
    "    question[\"user_choice\"]=user\n",
    "    \n",
    "\n",
    "score=0\n",
    "\n",
    "\n",
    "for index,question in enumerate(data):\n",
    "\n",
    "    if question[\"user_choice\"]==question[\"correct_answer\"]:\n",
    "        score=score+1\n",
    "        result=\"correct answer\"\n",
    "\n",
    "    else:\n",
    "        result=\"wrong answer\"\n",
    "\n",
    "    message=f\"{index+1} {result}-Your answer: {question['user_choice']},\"\\\n",
    "            f\"correct answer:  {question['correct_answer']}\"\n",
    "    print(message)\n",
    "\n",
    "\n",
    "print(data)\n",
    "# print(f\"{score}/{len(data)}\")\n",
    "print(score,\"/\",len(data))"
   ]
  }
 ],
 "metadata": {
  "kernelspec": {
   "display_name": "venv",
   "language": "python",
   "name": "python3"
  },
  "language_info": {
   "codemirror_mode": {
    "name": "ipython",
    "version": 3
   },
   "file_extension": ".py",
   "mimetype": "text/x-python",
   "name": "python",
   "nbconvert_exporter": "python",
   "pygments_lexer": "ipython3",
   "version": "3.10.11"
  }
 },
 "nbformat": 4,
 "nbformat_minor": 2
}
