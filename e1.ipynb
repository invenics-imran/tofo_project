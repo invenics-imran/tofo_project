{
 "cells": [
  {
   "cell_type": "code",
   "execution_count": 1,
   "metadata": {},
   "outputs": [
    {
     "name": "stdout",
     "output_type": "stream",
     "text": [
      "CONETENT 1\n",
      "CONTENT 2\n",
      "\n"
     ]
    }
   ],
   "source": [
    "import glob\n",
    "\n",
    "\n",
    "myfiles=glob.glob(\"file/*.txt\")\n",
    "\n",
    "for filepath in myfiles:\n",
    "    with open(filepath,'r') as file:\n",
    "        print(file.read().upper())"
   ]
  }
 ],
 "metadata": {
  "kernelspec": {
   "display_name": "venv",
   "language": "python",
   "name": "python3"
  },
  "language_info": {
   "codemirror_mode": {
    "name": "ipython",
    "version": 3
   },
   "file_extension": ".py",
   "mimetype": "text/x-python",
   "name": "python",
   "nbconvert_exporter": "python",
   "pygments_lexer": "ipython3",
   "version": "3.10.11"
  }
 },
 "nbformat": 4,
 "nbformat_minor": 2
}
