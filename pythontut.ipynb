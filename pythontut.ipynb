{
 "cells": [
  {
   "cell_type": "code",
   "execution_count": null,
   "metadata": {},
   "outputs": [
    {
     "name": "stdout",
     "output_type": "stream",
     "text": [
      "helo\n",
      "o----\n",
      "||||\n",
      "**********\n"
     ]
    }
   ],
   "source": [
    "print(\"helo\")\n",
    "print('o----')\n",
    "print('||||')\n",
    "print('*'*10)"
   ]
  },
  {
   "cell_type": "code",
   "execution_count": 5,
   "metadata": {},
   "outputs": [
    {
     "name": "stdout",
     "output_type": "stream",
     "text": [
      "20\n"
     ]
    }
   ],
   "source": [
    "price=10\n",
    "price=20\n",
    "name='imran'\n",
    "is_published=True\n",
    "print(price)"
   ]
  },
  {
   "cell_type": "code",
   "execution_count": 4,
   "metadata": {},
   "outputs": [
    {
     "name": "stdout",
     "output_type": "stream",
     "text": [
      "hi gfc\n"
     ]
    }
   ],
   "source": [
    "name=input('what is ur name')\n",
    "print('hi ' + name)"
   ]
  },
  {
   "cell_type": "code",
   "execution_count": 9,
   "metadata": {},
   "outputs": [
    {
     "name": "stdout",
     "output_type": "stream",
     "text": [
      "20\n",
      "<class 'int'>\n",
      "<class 'str'>\n"
     ]
    }
   ],
   "source": [
    "birth_year=input('birth year: ')\n",
    "age=2019-int(birth_year)\n",
    "print(age)\n",
    "print(type(age))\n",
    "print(type(birth_year))"
   ]
  },
  {
   "cell_type": "code",
   "execution_count": 11,
   "metadata": {},
   "outputs": [
    {
     "name": "stdout",
     "output_type": "stream",
     "text": [
      "450.0\n"
     ]
    }
   ],
   "source": [
    "weight_lbs=input('weight(lbs): ')\n",
    "weight_kg =int(weight_lbs)*4.5\n",
    "print(weight_kg)"
   ]
  },
  {
   "cell_type": "code",
   "execution_count": 13,
   "metadata": {},
   "outputs": [
    {
     "name": "stdout",
     "output_type": "stream",
     "text": [
      "\n",
      "Hi john,\n",
      "\n",
      "Here is our first email\n",
      "\n",
      "Thanku,\n",
      "support team\n",
      "\n",
      "bye bro\n",
      "\n",
      "\n"
     ]
    }
   ],
   "source": [
    "\n",
    "# multiline string\n",
    "course='''\n",
    "Hi john,\n",
    "\n",
    "Here is our first email\n",
    "\n",
    "Thanku,\n",
    "support team\n",
    "\n",
    "bye bro\n",
    "\n",
    "'''\n",
    "print(course)"
   ]
  },
  {
   "cell_type": "code",
   "execution_count": 18,
   "metadata": {},
   "outputs": [
    {
     "name": "stdout",
     "output_type": "stream",
     "text": [
      "f\n"
     ]
    }
   ],
   "source": [
    "course='python for beginners'\n",
    "print(course[7])"
   ]
  },
  {
   "cell_type": "code",
   "execution_count": 21,
   "metadata": {},
   "outputs": [
    {
     "name": "stdout",
     "output_type": "stream",
     "text": [
      "ytho\n"
     ]
    }
   ],
   "source": [
    "#string printing for a range of chara\n",
    "#if course [0:] then all charac if course[1:] then excluding first chara and print rest\n",
    "course='python for beginners'\n",
    "print(course[0:3])  "
   ]
  },
  {
   "cell_type": "code",
   "execution_count": 22,
   "metadata": {},
   "outputs": [
    {
     "name": "stdout",
     "output_type": "stream",
     "text": [
      "ython for beginner\n"
     ]
    }
   ],
   "source": [
    "course='python for beginners'\n",
    "print(course[1:-1])  "
   ]
  },
  {
   "cell_type": "code",
   "execution_count": 19,
   "metadata": {},
   "outputs": [
    {
     "name": "stdout",
     "output_type": "stream",
     "text": [
      "python for beginners\n"
     ]
    }
   ],
   "source": [
    "course='python for beginners'\n",
    "another=course[:]\n",
    "print(course[:])  "
   ]
  },
  {
   "cell_type": "code",
   "execution_count": 28,
   "metadata": {},
   "outputs": [
    {
     "name": "stdout",
     "output_type": "stream",
     "text": [
      "john [smith] is a coder\n"
     ]
    }
   ],
   "source": [
    "#FORMATTED STRING\n",
    "first='john'\n",
    "last='smith'\n",
    "#message=first+ ' ['+ last + '] is a coder'\n",
    "msg=f'{first} [{last}] is a coder'\n",
    "print(msg)\n"
   ]
  },
  {
   "cell_type": "code",
   "execution_count": 35,
   "metadata": {},
   "outputs": [
    {
     "name": "stdout",
     "output_type": "stream",
     "text": [
      "20\n",
      "PYTHON FOR BEGINNERS\n",
      "5\n",
      "python for absolute beginners\n",
      "True\n"
     ]
    }
   ],
   "source": [
    "#string methods\n",
    "course='python for beginners'\n",
    "print(len(course))\n",
    "print(course.upper())\n",
    "print(course.find('n'))\n",
    "print(course.replace('beginners','absolute beginners'))\n",
    "print('python' in course) #booloean value\n"
   ]
  },
  {
   "cell_type": "code",
   "execution_count": 39,
   "metadata": {},
   "outputs": [
    {
     "name": "stdout",
     "output_type": "stream",
     "text": [
      "3.3333333333333335\n",
      "1000\n"
     ]
    }
   ],
   "source": [
    "#arithmatic operations\n",
    "print(10/3) #if one more / then round to integ\n",
    "print(10**3)"
   ]
  },
  {
   "cell_type": "code",
   "execution_count": 41,
   "metadata": {},
   "outputs": [
    {
     "name": "stdout",
     "output_type": "stream",
     "text": [
      "3\n",
      "2\n"
     ]
    }
   ],
   "source": [
    "import math\n",
    "print(math.ceil(2.9))\n",
    "print(math.floor(2.9))"
   ]
  },
  {
   "cell_type": "code",
   "execution_count": 42,
   "metadata": {},
   "outputs": [
    {
     "name": "stdout",
     "output_type": "stream",
     "text": [
      "it's a hot day\n"
     ]
    }
   ],
   "source": [
    "#if statement\n",
    "is_hot=False\n",
    "is_cold=True\n",
    "\n",
    "if is_hot:\n",
    "    print(\"it's a hot day\")\n",
    "\n",
    "elif is_cold:\n",
    "    print(\"wear warm clothes\")\n",
    "else:\n",
    "    print(\"enjoy your day\")"
   ]
  },
  {
   "cell_type": "code",
   "execution_count": null,
   "metadata": {},
   "outputs": [],
   "source": []
  }
 ],
 "metadata": {
  "kernelspec": {
   "display_name": "base",
   "language": "python",
   "name": "python3"
  },
  "language_info": {
   "codemirror_mode": {
    "name": "ipython",
    "version": 3
   },
   "file_extension": ".py",
   "mimetype": "text/x-python",
   "name": "python",
   "nbconvert_exporter": "python",
   "pygments_lexer": "ipython3",
   "version": "3.10.11"
  },
  "orig_nbformat": 4
 },
 "nbformat": 4,
 "nbformat_minor": 2
}
